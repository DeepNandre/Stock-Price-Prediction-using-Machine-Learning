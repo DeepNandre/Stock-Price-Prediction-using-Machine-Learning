{
  "nbformat": 4,
  "nbformat_minor": 0,
  "metadata": {
    "colab": {
      "provenance": [],
      "authorship_tag": "ABX9TyPlhaKXromzKiFaVomr7Lqu",
      "include_colab_link": true
    },
    "kernelspec": {
      "name": "python3",
      "display_name": "Python 3"
    },
    "language_info": {
      "name": "python"
    }
  },
  "cells": [
    {
      "cell_type": "markdown",
      "metadata": {
        "id": "view-in-github",
        "colab_type": "text"
      },
      "source": [
        "<a href=\"https://colab.research.google.com/github/DeepNandre/Stock-Price-Prediction-using-Machine-Learning/blob/main/Untitled2.ipynb\" target=\"_parent\"><img src=\"https://colab.research.google.com/assets/colab-badge.svg\" alt=\"Open In Colab\"/></a>"
      ]
    },
    {
      "cell_type": "code",
      "source": [
        "import numpy as np"
      ],
      "metadata": {
        "id": "jszq--nidQn2"
      },
      "execution_count": null,
      "outputs": []
    },
    {
      "cell_type": "code",
      "source": [
        "import pandas as pd\n"
      ],
      "metadata": {
        "id": "qTTQCtvqdSxm"
      },
      "execution_count": null,
      "outputs": []
    },
    {
      "cell_type": "code",
      "source": [
        "import matplotlib.pyplot as plt\n"
      ],
      "metadata": {
        "id": "QnbWXhH4dUki"
      },
      "execution_count": null,
      "outputs": []
    },
    {
      "cell_type": "code",
      "source": [
        "from keras.models import Sequential\n"
      ],
      "metadata": {
        "id": "vBhJj7j5dXEA"
      },
      "execution_count": null,
      "outputs": []
    },
    {
      "cell_type": "code",
      "source": [
        "from sklearn.preprocessing import MinMaxScaler\n"
      ],
      "metadata": {
        "id": "xcpM7gnbdpZb"
      },
      "execution_count": null,
      "outputs": []
    },
    {
      "cell_type": "code",
      "source": [
        "df = pd.read_csv('AAPL.csv')\n"
      ],
      "metadata": {
        "id": "2hOGqAOodt3i"
      },
      "execution_count": null,
      "outputs": []
    },
    {
      "cell_type": "code",
      "source": [
        "data = df.filter(['Close'])"
      ],
      "metadata": {
        "id": "34jvLyb_jYPN"
      },
      "execution_count": null,
      "outputs": []
    },
    {
      "cell_type": "code",
      "source": [
        "dataset = data.values\n"
      ],
      "metadata": {
        "id": "UQ4Ltl2tjafB"
      },
      "execution_count": null,
      "outputs": []
    },
    {
      "cell_type": "code",
      "source": [
        "scaler = MinMaxScaler(feature_range=(0, 1))\n"
      ],
      "metadata": {
        "id": "v27s7Hd1jcPx"
      },
      "execution_count": null,
      "outputs": []
    },
    {
      "cell_type": "code",
      "source": [
        "scaled_data = scaler.fit_transform(dataset)\n"
      ],
      "metadata": {
        "id": "RmHzynTFjesR"
      },
      "execution_count": null,
      "outputs": []
    },
    {
      "cell_type": "code",
      "source": [
        "training_data_len = int(len(dataset) * 0.8)\n",
        "train_data = scaled_data[0:training_data_len, :]\n",
        "x_train = []\n",
        "y_train = []\n",
        "\n",
        "for i in range(60, len(train_data)):\n",
        "    x_train.append(train_data[i-60:i, 0])\n",
        "    y_train.append(train_data[i, 0])\n",
        "    \n",
        "x_train, y_train = np.array(x_train), np.array(y_train)\n",
        "x_train = np.reshape(x_train, (x_train.shape[0], x_train.shape[1], 1))\n",
        "\n",
        "test_data = scaled_data[training_data_len-60:, :]\n",
        "x_test = []\n",
        "y_test = dataset[training_data_len:, :]\n",
        "\n",
        "for i in range(60, len(test_data)):\n",
        "    x_test.append(test_data[i-60:i, 0])\n",
        "    \n",
        "x_test = np.array(x_test)\n",
        "x_test = np.reshape(x_test, (x_test.shape[0], x_test.shape[1], 1))\n"
      ],
      "metadata": {
        "id": "hUGzaJ4DjjuE"
      },
      "execution_count": null,
      "outputs": []
    },
    {
      "cell_type": "code",
      "source": [
        "model = Sequential()\n",
        "\n",
        "model.add(LSTM(50, return_sequences=True, input_shape=(x_train.shape[1], 1)))\n",
        "model.add(LSTM(25, return_sequences=False))\n",
        "model.add(Dense(25, activation='relu'))\n",
        "model.add(Dense(1))\n",
        "\n",
        "model.compile(optimizer='adam', loss='mean_squared_error')"
      ],
      "metadata": {
        "colab": {
          "base_uri": "https://localhost:8080/",
          "height": 235
        },
        "id": "je1_LOotj6T5",
        "outputId": "c9f0c549-d1b6-4961-b848-ed0dab94cf94"
      },
      "execution_count": null,
      "outputs": [
        {
          "output_type": "error",
          "ename": "NameError",
          "evalue": "ignored",
          "traceback": [
            "\u001b[0;31m---------------------------------------------------------------------------\u001b[0m",
            "\u001b[0;31mNameError\u001b[0m                                 Traceback (most recent call last)",
            "\u001b[0;32m<ipython-input-16-1a02fd57b3be>\u001b[0m in \u001b[0;36m<module>\u001b[0;34m\u001b[0m\n\u001b[1;32m      1\u001b[0m \u001b[0mmodel\u001b[0m \u001b[0;34m=\u001b[0m \u001b[0mSequential\u001b[0m\u001b[0;34m(\u001b[0m\u001b[0;34m)\u001b[0m\u001b[0;34m\u001b[0m\u001b[0;34m\u001b[0m\u001b[0m\n\u001b[1;32m      2\u001b[0m \u001b[0;34m\u001b[0m\u001b[0m\n\u001b[0;32m----> 3\u001b[0;31m \u001b[0mmodel\u001b[0m\u001b[0;34m.\u001b[0m\u001b[0madd\u001b[0m\u001b[0;34m(\u001b[0m\u001b[0mLSTM\u001b[0m\u001b[0;34m(\u001b[0m\u001b[0;36m50\u001b[0m\u001b[0;34m,\u001b[0m \u001b[0mreturn_sequences\u001b[0m\u001b[0;34m=\u001b[0m\u001b[0;32mTrue\u001b[0m\u001b[0;34m,\u001b[0m \u001b[0minput_shape\u001b[0m\u001b[0;34m=\u001b[0m\u001b[0;34m(\u001b[0m\u001b[0mx_train\u001b[0m\u001b[0;34m.\u001b[0m\u001b[0mshape\u001b[0m\u001b[0;34m[\u001b[0m\u001b[0;36m1\u001b[0m\u001b[0;34m]\u001b[0m\u001b[0;34m,\u001b[0m \u001b[0;36m1\u001b[0m\u001b[0;34m)\u001b[0m\u001b[0;34m)\u001b[0m\u001b[0;34m)\u001b[0m\u001b[0;34m\u001b[0m\u001b[0;34m\u001b[0m\u001b[0m\n\u001b[0m\u001b[1;32m      4\u001b[0m \u001b[0mmodel\u001b[0m\u001b[0;34m.\u001b[0m\u001b[0madd\u001b[0m\u001b[0;34m(\u001b[0m\u001b[0mLSTM\u001b[0m\u001b[0;34m(\u001b[0m\u001b[0;36m25\u001b[0m\u001b[0;34m,\u001b[0m \u001b[0mreturn_sequences\u001b[0m\u001b[0;34m=\u001b[0m\u001b[0;32mFalse\u001b[0m\u001b[0;34m)\u001b[0m\u001b[0;34m)\u001b[0m\u001b[0;34m\u001b[0m\u001b[0;34m\u001b[0m\u001b[0m\n\u001b[1;32m      5\u001b[0m \u001b[0mmodel\u001b[0m\u001b[0;34m.\u001b[0m\u001b[0madd\u001b[0m\u001b[0;34m(\u001b[0m\u001b[0mDense\u001b[0m\u001b[0;34m(\u001b[0m\u001b[0;36m25\u001b[0m\u001b[0;34m,\u001b[0m \u001b[0mactivation\u001b[0m\u001b[0;34m=\u001b[0m\u001b[0;34m'relu'\u001b[0m\u001b[0;34m)\u001b[0m\u001b[0;34m)\u001b[0m\u001b[0;34m\u001b[0m\u001b[0;34m\u001b[0m\u001b[0m\n",
            "\u001b[0;31mNameError\u001b[0m: name 'LSTM' is not defined"
          ]
        }
      ]
    },
    {
      "cell_type": "code",
      "source": [
        "from keras.layers import LSTM\n"
      ],
      "metadata": {
        "id": "ldbOU3_hlwJJ"
      },
      "execution_count": null,
      "outputs": []
    },
    {
      "cell_type": "code",
      "source": [
        "model.add(LSTM(50, return_sequences=True, input_shape=(x_train.shape[1], 1)))\n"
      ],
      "metadata": {
        "id": "BH--MN4klzV4"
      },
      "execution_count": null,
      "outputs": []
    },
    {
      "cell_type": "code",
      "source": [
        "model = Sequential()\n",
        "\n",
        "model.add(LSTM(50, return_sequences=True, input_shape=(x_train.shape[1], 1)))\n",
        "model.add(LSTM(25, return_sequences=False))\n",
        "model.add(Dense(25, activation='relu'))\n",
        "model.add(Dense(1))\n",
        "\n",
        "model.compile(optimizer='adam', loss='mean_squared_error')"
      ],
      "metadata": {
        "colab": {
          "base_uri": "https://localhost:8080/",
          "height": 235
        },
        "id": "DOcdm-Ful1Be",
        "outputId": "feb8dcad-e611-4a43-bf3b-8a97ed5f55eb"
      },
      "execution_count": null,
      "outputs": [
        {
          "output_type": "error",
          "ename": "NameError",
          "evalue": "ignored",
          "traceback": [
            "\u001b[0;31m---------------------------------------------------------------------------\u001b[0m",
            "\u001b[0;31mNameError\u001b[0m                                 Traceback (most recent call last)",
            "\u001b[0;32m<ipython-input-20-1a02fd57b3be>\u001b[0m in \u001b[0;36m<module>\u001b[0;34m\u001b[0m\n\u001b[1;32m      3\u001b[0m \u001b[0mmodel\u001b[0m\u001b[0;34m.\u001b[0m\u001b[0madd\u001b[0m\u001b[0;34m(\u001b[0m\u001b[0mLSTM\u001b[0m\u001b[0;34m(\u001b[0m\u001b[0;36m50\u001b[0m\u001b[0;34m,\u001b[0m \u001b[0mreturn_sequences\u001b[0m\u001b[0;34m=\u001b[0m\u001b[0;32mTrue\u001b[0m\u001b[0;34m,\u001b[0m \u001b[0minput_shape\u001b[0m\u001b[0;34m=\u001b[0m\u001b[0;34m(\u001b[0m\u001b[0mx_train\u001b[0m\u001b[0;34m.\u001b[0m\u001b[0mshape\u001b[0m\u001b[0;34m[\u001b[0m\u001b[0;36m1\u001b[0m\u001b[0;34m]\u001b[0m\u001b[0;34m,\u001b[0m \u001b[0;36m1\u001b[0m\u001b[0;34m)\u001b[0m\u001b[0;34m)\u001b[0m\u001b[0;34m)\u001b[0m\u001b[0;34m\u001b[0m\u001b[0;34m\u001b[0m\u001b[0m\n\u001b[1;32m      4\u001b[0m \u001b[0mmodel\u001b[0m\u001b[0;34m.\u001b[0m\u001b[0madd\u001b[0m\u001b[0;34m(\u001b[0m\u001b[0mLSTM\u001b[0m\u001b[0;34m(\u001b[0m\u001b[0;36m25\u001b[0m\u001b[0;34m,\u001b[0m \u001b[0mreturn_sequences\u001b[0m\u001b[0;34m=\u001b[0m\u001b[0;32mFalse\u001b[0m\u001b[0;34m)\u001b[0m\u001b[0;34m)\u001b[0m\u001b[0;34m\u001b[0m\u001b[0;34m\u001b[0m\u001b[0m\n\u001b[0;32m----> 5\u001b[0;31m \u001b[0mmodel\u001b[0m\u001b[0;34m.\u001b[0m\u001b[0madd\u001b[0m\u001b[0;34m(\u001b[0m\u001b[0mDense\u001b[0m\u001b[0;34m(\u001b[0m\u001b[0;36m25\u001b[0m\u001b[0;34m,\u001b[0m \u001b[0mactivation\u001b[0m\u001b[0;34m=\u001b[0m\u001b[0;34m'relu'\u001b[0m\u001b[0;34m)\u001b[0m\u001b[0;34m)\u001b[0m\u001b[0;34m\u001b[0m\u001b[0;34m\u001b[0m\u001b[0m\n\u001b[0m\u001b[1;32m      6\u001b[0m \u001b[0mmodel\u001b[0m\u001b[0;34m.\u001b[0m\u001b[0madd\u001b[0m\u001b[0;34m(\u001b[0m\u001b[0mDense\u001b[0m\u001b[0;34m(\u001b[0m\u001b[0;36m1\u001b[0m\u001b[0;34m)\u001b[0m\u001b[0;34m)\u001b[0m\u001b[0;34m\u001b[0m\u001b[0;34m\u001b[0m\u001b[0m\n\u001b[1;32m      7\u001b[0m \u001b[0;34m\u001b[0m\u001b[0m\n",
            "\u001b[0;31mNameError\u001b[0m: name 'Dense' is not defined"
          ]
        }
      ]
    },
    {
      "cell_type": "code",
      "source": [
        "from keras.layers import Dense\n"
      ],
      "metadata": {
        "id": "1073Vq0CmN38"
      },
      "execution_count": null,
      "outputs": []
    },
    {
      "cell_type": "code",
      "source": [
        "model.add(Dense(25, activation='relu'))\n",
        "model.add(Dense(1))\n"
      ],
      "metadata": {
        "id": "mblJWn39mOwj"
      },
      "execution_count": null,
      "outputs": []
    },
    {
      "cell_type": "code",
      "source": [
        "model = Sequential()\n",
        "\n",
        "model.add(LSTM(50, return_sequences=True, input_shape=(x_train.shape[1], 1)))\n",
        "model.add(LSTM(25, return_sequences=False))\n",
        "model.add(Dense(25, activation='relu'))\n",
        "model.add(Dense(1))\n",
        "\n",
        "model.compile(optimizer='adam', loss='mean_squared_error')\n"
      ],
      "metadata": {
        "id": "h6sa2Dbdmh8R"
      },
      "execution_count": null,
      "outputs": []
    },
    {
      "cell_type": "code",
      "source": [
        "model.fit(x_train, y_train, batch_size=64, epochs=100)\n"
      ],
      "metadata": {
        "colab": {
          "base_uri": "https://localhost:8080/"
        },
        "id": "7yGmrzA8mlb2",
        "outputId": "f14f56dd-1413-4d45-a1d4-90e93dce0667"
      },
      "execution_count": null,
      "outputs": [
        {
          "output_type": "stream",
          "name": "stdout",
          "text": [
            "Epoch 1/100\n",
            "122/122 [==============================] - 15s 79ms/step - loss: nan\n",
            "Epoch 2/100\n",
            "122/122 [==============================] - 10s 78ms/step - loss: nan\n",
            "Epoch 3/100\n",
            "122/122 [==============================] - 9s 74ms/step - loss: nan\n",
            "Epoch 4/100\n",
            "122/122 [==============================] - 9s 74ms/step - loss: nan\n",
            "Epoch 5/100\n",
            "122/122 [==============================] - 11s 88ms/step - loss: nan\n",
            "Epoch 6/100\n",
            "122/122 [==============================] - 10s 80ms/step - loss: nan\n",
            "Epoch 7/100\n",
            "122/122 [==============================] - 9s 74ms/step - loss: nan\n",
            "Epoch 8/100\n",
            "122/122 [==============================] - 9s 77ms/step - loss: nan\n",
            "Epoch 9/100\n",
            "122/122 [==============================] - 11s 87ms/step - loss: nan\n",
            "Epoch 10/100\n",
            "122/122 [==============================] - 10s 82ms/step - loss: nan\n",
            "Epoch 11/100\n",
            "122/122 [==============================] - 10s 78ms/step - loss: nan\n",
            "Epoch 12/100\n",
            "122/122 [==============================] - 9s 75ms/step - loss: nan\n",
            "Epoch 13/100\n",
            "122/122 [==============================] - 10s 82ms/step - loss: nan\n",
            "Epoch 14/100\n",
            "122/122 [==============================] - 10s 83ms/step - loss: nan\n",
            "Epoch 15/100\n",
            "122/122 [==============================] - 10s 79ms/step - loss: nan\n",
            "Epoch 16/100\n",
            "122/122 [==============================] - 9s 74ms/step - loss: nan\n",
            "Epoch 17/100\n",
            "122/122 [==============================] - 10s 81ms/step - loss: nan\n",
            "Epoch 18/100\n",
            "122/122 [==============================] - 10s 82ms/step - loss: nan\n",
            "Epoch 19/100\n",
            "122/122 [==============================] - 10s 79ms/step - loss: nan\n",
            "Epoch 20/100\n",
            "122/122 [==============================] - 9s 75ms/step - loss: nan\n",
            "Epoch 21/100\n",
            "122/122 [==============================] - 10s 82ms/step - loss: nan\n",
            "Epoch 22/100\n",
            "122/122 [==============================] - 10s 81ms/step - loss: nan\n",
            "Epoch 23/100\n",
            "122/122 [==============================] - 10s 78ms/step - loss: nan\n",
            "Epoch 24/100\n",
            "122/122 [==============================] - 9s 75ms/step - loss: nan\n",
            "Epoch 25/100\n",
            "122/122 [==============================] - 10s 82ms/step - loss: nan\n",
            "Epoch 26/100\n",
            "122/122 [==============================] - 10s 82ms/step - loss: nan\n",
            "Epoch 27/100\n",
            "122/122 [==============================] - 10s 80ms/step - loss: nan\n",
            "Epoch 28/100\n",
            "122/122 [==============================] - 9s 74ms/step - loss: nan\n",
            "Epoch 29/100\n",
            "122/122 [==============================] - 10s 82ms/step - loss: nan\n",
            "Epoch 30/100\n",
            "122/122 [==============================] - 10s 82ms/step - loss: nan\n",
            "Epoch 31/100\n",
            "122/122 [==============================] - 10s 79ms/step - loss: nan\n",
            "Epoch 32/100\n",
            "122/122 [==============================] - 9s 74ms/step - loss: nan\n",
            "Epoch 33/100\n",
            "122/122 [==============================] - 10s 84ms/step - loss: nan\n",
            "Epoch 34/100\n",
            "122/122 [==============================] - 10s 83ms/step - loss: nan\n",
            "Epoch 35/100\n",
            "122/122 [==============================] - 10s 83ms/step - loss: nan\n",
            "Epoch 36/100\n",
            "122/122 [==============================] - 9s 74ms/step - loss: nan\n",
            "Epoch 37/100\n",
            "122/122 [==============================] - 10s 83ms/step - loss: nan\n",
            "Epoch 38/100\n",
            "122/122 [==============================] - 10s 83ms/step - loss: nan\n",
            "Epoch 39/100\n",
            "122/122 [==============================] - 10s 83ms/step - loss: nan\n",
            "Epoch 40/100\n",
            "122/122 [==============================] - 9s 73ms/step - loss: nan\n",
            "Epoch 41/100\n",
            "122/122 [==============================] - 10s 84ms/step - loss: nan\n",
            "Epoch 42/100\n",
            "122/122 [==============================] - 10s 82ms/step - loss: nan\n",
            "Epoch 43/100\n",
            "122/122 [==============================] - 10s 82ms/step - loss: nan\n",
            "Epoch 44/100\n",
            "122/122 [==============================] - 9s 75ms/step - loss: nan\n",
            "Epoch 45/100\n",
            "122/122 [==============================] - 10s 81ms/step - loss: nan\n",
            "Epoch 46/100\n",
            "122/122 [==============================] - 10s 83ms/step - loss: nan\n",
            "Epoch 47/100\n",
            "122/122 [==============================] - 10s 83ms/step - loss: nan\n",
            "Epoch 48/100\n",
            "122/122 [==============================] - 10s 80ms/step - loss: nan\n",
            "Epoch 49/100\n",
            "122/122 [==============================] - 9s 76ms/step - loss: nan\n",
            "Epoch 50/100\n",
            "122/122 [==============================] - 10s 83ms/step - loss: nan\n",
            "Epoch 51/100\n",
            "122/122 [==============================] - 10s 84ms/step - loss: nan\n",
            "Epoch 52/100\n",
            "122/122 [==============================] - 10s 83ms/step - loss: nan\n",
            "Epoch 53/100\n",
            "122/122 [==============================] - 9s 75ms/step - loss: nan\n",
            "Epoch 54/100\n",
            "122/122 [==============================] - 10s 85ms/step - loss: nan\n",
            "Epoch 55/100\n",
            "122/122 [==============================] - 10s 84ms/step - loss: nan\n",
            "Epoch 56/100\n",
            "122/122 [==============================] - 10s 84ms/step - loss: nan\n",
            "Epoch 57/100\n",
            "122/122 [==============================] - 10s 80ms/step - loss: nan\n",
            "Epoch 58/100\n",
            "122/122 [==============================] - 10s 79ms/step - loss: nan\n",
            "Epoch 59/100\n",
            "122/122 [==============================] - 10s 84ms/step - loss: nan\n",
            "Epoch 60/100\n",
            "122/122 [==============================] - 10s 84ms/step - loss: nan\n",
            "Epoch 61/100\n",
            "122/122 [==============================] - 10s 83ms/step - loss: nan\n",
            "Epoch 62/100\n",
            "122/122 [==============================] - 9s 74ms/step - loss: nan\n",
            "Epoch 63/100\n",
            "122/122 [==============================] - 10s 84ms/step - loss: nan\n",
            "Epoch 64/100\n",
            "122/122 [==============================] - 10s 84ms/step - loss: nan\n",
            "Epoch 65/100\n",
            "122/122 [==============================] - 10s 84ms/step - loss: nan\n",
            "Epoch 66/100\n",
            "122/122 [==============================] - 9s 76ms/step - loss: nan\n",
            "Epoch 67/100\n",
            "122/122 [==============================] - 10s 82ms/step - loss: nan\n",
            "Epoch 68/100\n",
            "122/122 [==============================] - 10s 84ms/step - loss: nan\n",
            "Epoch 69/100\n",
            "122/122 [==============================] - 10s 85ms/step - loss: nan\n",
            "Epoch 70/100\n",
            "122/122 [==============================] - 10s 84ms/step - loss: nan\n",
            "Epoch 71/100\n",
            "122/122 [==============================] - 9s 76ms/step - loss: nan\n",
            "Epoch 72/100\n",
            "122/122 [==============================] - 10s 85ms/step - loss: nan\n",
            "Epoch 73/100\n",
            "122/122 [==============================] - 10s 85ms/step - loss: nan\n",
            "Epoch 74/100\n",
            "122/122 [==============================] - 10s 85ms/step - loss: nan\n",
            "Epoch 75/100\n",
            "122/122 [==============================] - 10s 79ms/step - loss: nan\n",
            "Epoch 76/100\n",
            "122/122 [==============================] - 10s 82ms/step - loss: nan\n",
            "Epoch 77/100\n",
            "122/122 [==============================] - 10s 85ms/step - loss: nan\n",
            "Epoch 78/100\n",
            "122/122 [==============================] - 10s 86ms/step - loss: nan\n",
            "Epoch 79/100\n",
            "122/122 [==============================] - 10s 85ms/step - loss: nan\n",
            "Epoch 80/100\n",
            "122/122 [==============================] - 9s 76ms/step - loss: nan\n",
            "Epoch 81/100\n",
            "122/122 [==============================] - 10s 85ms/step - loss: nan\n",
            "Epoch 82/100\n",
            "122/122 [==============================] - 10s 85ms/step - loss: nan\n",
            "Epoch 83/100\n",
            "122/122 [==============================] - 10s 85ms/step - loss: nan\n",
            "Epoch 84/100\n",
            "122/122 [==============================] - 10s 86ms/step - loss: nan\n",
            "Epoch 85/100\n",
            "122/122 [==============================] - 9s 75ms/step - loss: nan\n",
            "Epoch 86/100\n",
            "122/122 [==============================] - 10s 85ms/step - loss: nan\n",
            "Epoch 87/100\n",
            "122/122 [==============================] - 10s 86ms/step - loss: nan\n",
            "Epoch 88/100\n",
            "122/122 [==============================] - 10s 85ms/step - loss: nan\n",
            "Epoch 89/100\n",
            "122/122 [==============================] - 10s 80ms/step - loss: nan\n",
            "Epoch 90/100\n",
            "122/122 [==============================] - 10s 81ms/step - loss: nan\n",
            "Epoch 91/100\n",
            "122/122 [==============================] - 10s 85ms/step - loss: nan\n",
            "Epoch 92/100\n",
            "122/122 [==============================] - 10s 85ms/step - loss: nan\n",
            "Epoch 93/100\n",
            "122/122 [==============================] - 10s 86ms/step - loss: nan\n",
            "Epoch 94/100\n",
            "122/122 [==============================] - 10s 79ms/step - loss: nan\n",
            "Epoch 95/100\n",
            "122/122 [==============================] - 10s 81ms/step - loss: nan\n",
            "Epoch 96/100\n",
            "122/122 [==============================] - 10s 86ms/step - loss: nan\n",
            "Epoch 97/100\n",
            "122/122 [==============================] - 10s 85ms/step - loss: nan\n",
            "Epoch 98/100\n",
            "122/122 [==============================] - 10s 86ms/step - loss: nan\n",
            "Epoch 99/100\n",
            "122/122 [==============================] - 10s 78ms/step - loss: nan\n",
            "Epoch 100/100\n",
            "122/122 [==============================] - 10s 83ms/step - loss: nan\n"
          ]
        },
        {
          "output_type": "execute_result",
          "data": {
            "text/plain": [
              "<keras.callbacks.History at 0x7febcbc0a310>"
            ]
          },
          "metadata": {},
          "execution_count": 24
        }
      ]
    },
    {
      "cell_type": "code",
      "source": [
        "train_predict = model.predict(x_train)\n",
        "test_predict = model.predict(x_test)\n"
      ],
      "metadata": {
        "colab": {
          "base_uri": "https://localhost:8080/"
        },
        "id": "LsxAqeuIq2Bu",
        "outputId": "28e4b59d-111d-43e6-b8a8-7749b92a892f"
      },
      "execution_count": null,
      "outputs": [
        {
          "output_type": "stream",
          "name": "stdout",
          "text": [
            "244/244 [==============================] - 6s 20ms/step\n",
            "62/62 [==============================] - 1s 19ms/step\n"
          ]
        }
      ]
    },
    {
      "cell_type": "code",
      "source": [
        "import matplotlib.pyplot as plt\n",
        "\n",
        "def plot_predictions(test, predicted):\n",
        "    plt.plot(test, color='blue', label='Actual Price')\n",
        "    plt.plot(predicted, color='red', label='Predicted Price')\n",
        "    plt.title('Stock Price Prediction')\n",
        "    plt.xlabel('Time')\n",
        "    plt.ylabel('Price')\n",
        "    plt.legend()\n",
        "    plt.show()\n"
      ],
      "metadata": {
        "id": "VaXv3JaFrFQg"
      },
      "execution_count": null,
      "outputs": []
    },
    {
      "cell_type": "code",
      "source": [
        "plot_predictions(y_test, test_predict)\n",
        "\n"
      ],
      "metadata": {
        "colab": {
          "base_uri": "https://localhost:8080/",
          "height": 295
        },
        "id": "9rpw0U2KrJ3-",
        "outputId": "1dc4bfa5-74ff-46cd-f20d-9a1831665dd9"
      },
      "execution_count": null,
      "outputs": [
        {
          "output_type": "display_data",
          "data": {
            "text/plain": [
              "<Figure size 432x288 with 1 Axes>"
            ],
            "image/png": "[encoded data removed]"
          },
          "metadata": {
            "needs_background": "light"
          }
        }
      ]
    }
  ]
}